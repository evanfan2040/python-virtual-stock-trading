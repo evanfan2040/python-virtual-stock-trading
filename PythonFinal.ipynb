{
  "nbformat": 4,
  "nbformat_minor": 0,
  "metadata": {
    "colab": {
      "provenance": [],
      "collapsed_sections": [
        "RLvME6TJwMfF"
      ],
      "mount_file_id": "1A8vFuhf3-nY5hrmAEz4SILdmOenURuZg",
      "authorship_tag": "ABX9TyMqVv1/S5oPPSLw/Ny8YgWu",
      "include_colab_link": true
    },
    "kernelspec": {
      "name": "python3",
      "display_name": "Python 3"
    },
    "language_info": {
      "name": "python"
    }
  },
  "cells": [
    {
      "cell_type": "markdown",
      "metadata": {
        "id": "view-in-github",
        "colab_type": "text"
      },
      "source": [
        "<a href=\"https://colab.research.google.com/github/evanfan2040/python-virtual-stock-trading/blob/main/PythonFinal.ipynb\" target=\"_parent\"><img src=\"https://colab.research.google.com/assets/colab-badge.svg\" alt=\"Open In Colab\"/></a>"
      ]
    },
    {
      "cell_type": "code",
      "source": [
        "!pip install twstock"
      ],
      "metadata": {
        "id": "EorYSHGae_XR",
        "collapsed": true
      },
      "execution_count": null,
      "outputs": []
    },
    {
      "cell_type": "code",
      "source": [
        "!pip install yfinance"
      ],
      "metadata": {
        "id": "hR0WSCO2o2dT",
        "collapsed": true
      },
      "execution_count": null,
      "outputs": []
    },
    {
      "cell_type": "code",
      "source": [
        "!pip install pandas"
      ],
      "metadata": {
        "id": "8dkUi-0FfU95"
      },
      "execution_count": null,
      "outputs": []
    },
    {
      "cell_type": "code",
      "source": [
        "!pip install plotly"
      ],
      "metadata": {
        "id": "6wViY1i8fVG-"
      },
      "execution_count": null,
      "outputs": []
    },
    {
      "cell_type": "code",
      "source": [
        "!pip install numpy"
      ],
      "metadata": {
        "id": "xtgEf8k4nqlQ"
      },
      "execution_count": null,
      "outputs": []
    },
    {
      "cell_type": "code",
      "source": [
        "!pip install shioaji"
      ],
      "metadata": {
        "id": "xsQVKFFEnvjf"
      },
      "execution_count": null,
      "outputs": []
    },
    {
      "cell_type": "markdown",
      "source": [
        "##**測試區**\n",
        "這裡是在實作用爬蟲抓到即時的股票大部分的資料"
      ],
      "metadata": {
        "id": "RLvME6TJwMfF"
      }
    },
    {
      "cell_type": "code",
      "source": [
        "import twstock as tw\n",
        "import pandas as pd\n",
        "num = input('請輸入證券代碼')\n",
        "stock = tw.realtime.get(num)\n",
        "#print(stock['success'])\n",
        "\n",
        "result = pd.DataFrame(stock).T.iloc[1:3]\n",
        "result.columns = ['code', 'location', 'stock_name', 'company_name', 'time', 'latest_sellprice', 'volume', 'overall_volume', 'topfive_sellprice', 'topfive_sellvolume', 'topfive_buyprice', 'topfive_buyvolume', 'opening_price', 'highestprice', 'lowestprice']\n",
        "result"
      ],
      "metadata": {
        "id": "1J4TtEJCFcro",
        "collapsed": true
      },
      "execution_count": null,
      "outputs": []
    },
    {
      "cell_type": "markdown",
      "source": [
        "這裡是在實作用爬蟲抓到即時的股票價格"
      ],
      "metadata": {
        "id": "MzO13edKwcoZ"
      }
    },
    {
      "cell_type": "code",
      "source": [
        "from posix import X_OK\n",
        "from os import PRIO_PROCESS\n",
        "import requests\n",
        "from bs4 import BeautifulSoup\n",
        "code = input('請輸入代碼')\n",
        "\n",
        "url = 'https://tw.stock.yahoo.com/quote/'+code\n",
        "web = requests.get(url)\n",
        "soup = BeautifulSoup(web.text, \"html.parser\")\n",
        "X = soup.select('.Fz\\(32px\\)')[0]\n",
        "print(X.get_text())\n",
        "price = f'{X.get_text()}'\n",
        "price = price.replace(',', '')\n",
        "\n",
        "price = int(price)\n",
        "print(price)"
      ],
      "metadata": {
        "id": "mBHge9HyoEKa"
      },
      "execution_count": null,
      "outputs": []
    },
    {
      "cell_type": "markdown",
      "source": [
        "實作繼承帳號資訊的文件，但由於文件的形式有點不方便，就使用json來做為資料的存放處"
      ],
      "metadata": {
        "id": "-7lfMNul6UhD"
      }
    },
    {
      "cell_type": "code",
      "source": [
        "FileName = input('請輸入學號')\n",
        "file = open(FileName, mode = 'w')\n",
        "file.write('hello')\n",
        "file.close()"
      ],
      "metadata": {
        "id": "sfPytK4YxlU7"
      },
      "execution_count": null,
      "outputs": []
    },
    {
      "cell_type": "markdown",
      "source": [
        "## **導入區**\n",
        "這裡可以將預設檔案導入左邊的檔案區，這樣這個專案的程式都讀取的到，會需要三個檔案，分別是config.json、stock.txt和trade.txt"
      ],
      "metadata": {
        "id": "aQPRjmLDsM2x"
      }
    },
    {
      "cell_type": "code",
      "source": [
        "from google.colab import files\n",
        "uploaded = files.upload()"
      ],
      "metadata": {
        "colab": {
          "base_uri": "https://localhost:8080/",
          "height": 75
        },
        "id": "FgGKIP_JFa7g",
        "outputId": "f6632a2d-abee-463c-d402-c0f1f75ee9de"
      },
      "execution_count": 3,
      "outputs": [
        {
          "output_type": "display_data",
          "data": {
            "text/plain": [
              "<IPython.core.display.HTML object>"
            ],
            "text/html": [
              "\n",
              "     <input type=\"file\" id=\"files-5c659edf-b79f-4000-8060-c535fd27e849\" name=\"files[]\" multiple disabled\n",
              "        style=\"border:none\" />\n",
              "     <output id=\"result-5c659edf-b79f-4000-8060-c535fd27e849\">\n",
              "      Upload widget is only available when the cell has been executed in the\n",
              "      current browser session. Please rerun this cell to enable.\n",
              "      </output>\n",
              "      <script>// Copyright 2017 Google LLC\n",
              "//\n",
              "// Licensed under the Apache License, Version 2.0 (the \"License\");\n",
              "// you may not use this file except in compliance with the License.\n",
              "// You may obtain a copy of the License at\n",
              "//\n",
              "//      http://www.apache.org/licenses/LICENSE-2.0\n",
              "//\n",
              "// Unless required by applicable law or agreed to in writing, software\n",
              "// distributed under the License is distributed on an \"AS IS\" BASIS,\n",
              "// WITHOUT WARRANTIES OR CONDITIONS OF ANY KIND, either express or implied.\n",
              "// See the License for the specific language governing permissions and\n",
              "// limitations under the License.\n",
              "\n",
              "/**\n",
              " * @fileoverview Helpers for google.colab Python module.\n",
              " */\n",
              "(function(scope) {\n",
              "function span(text, styleAttributes = {}) {\n",
              "  const element = document.createElement('span');\n",
              "  element.textContent = text;\n",
              "  for (const key of Object.keys(styleAttributes)) {\n",
              "    element.style[key] = styleAttributes[key];\n",
              "  }\n",
              "  return element;\n",
              "}\n",
              "\n",
              "// Max number of bytes which will be uploaded at a time.\n",
              "const MAX_PAYLOAD_SIZE = 100 * 1024;\n",
              "\n",
              "function _uploadFiles(inputId, outputId) {\n",
              "  const steps = uploadFilesStep(inputId, outputId);\n",
              "  const outputElement = document.getElementById(outputId);\n",
              "  // Cache steps on the outputElement to make it available for the next call\n",
              "  // to uploadFilesContinue from Python.\n",
              "  outputElement.steps = steps;\n",
              "\n",
              "  return _uploadFilesContinue(outputId);\n",
              "}\n",
              "\n",
              "// This is roughly an async generator (not supported in the browser yet),\n",
              "// where there are multiple asynchronous steps and the Python side is going\n",
              "// to poll for completion of each step.\n",
              "// This uses a Promise to block the python side on completion of each step,\n",
              "// then passes the result of the previous step as the input to the next step.\n",
              "function _uploadFilesContinue(outputId) {\n",
              "  const outputElement = document.getElementById(outputId);\n",
              "  const steps = outputElement.steps;\n",
              "\n",
              "  const next = steps.next(outputElement.lastPromiseValue);\n",
              "  return Promise.resolve(next.value.promise).then((value) => {\n",
              "    // Cache the last promise value to make it available to the next\n",
              "    // step of the generator.\n",
              "    outputElement.lastPromiseValue = value;\n",
              "    return next.value.response;\n",
              "  });\n",
              "}\n",
              "\n",
              "/**\n",
              " * Generator function which is called between each async step of the upload\n",
              " * process.\n",
              " * @param {string} inputId Element ID of the input file picker element.\n",
              " * @param {string} outputId Element ID of the output display.\n",
              " * @return {!Iterable<!Object>} Iterable of next steps.\n",
              " */\n",
              "function* uploadFilesStep(inputId, outputId) {\n",
              "  const inputElement = document.getElementById(inputId);\n",
              "  inputElement.disabled = false;\n",
              "\n",
              "  const outputElement = document.getElementById(outputId);\n",
              "  outputElement.innerHTML = '';\n",
              "\n",
              "  const pickedPromise = new Promise((resolve) => {\n",
              "    inputElement.addEventListener('change', (e) => {\n",
              "      resolve(e.target.files);\n",
              "    });\n",
              "  });\n",
              "\n",
              "  const cancel = document.createElement('button');\n",
              "  inputElement.parentElement.appendChild(cancel);\n",
              "  cancel.textContent = 'Cancel upload';\n",
              "  const cancelPromise = new Promise((resolve) => {\n",
              "    cancel.onclick = () => {\n",
              "      resolve(null);\n",
              "    };\n",
              "  });\n",
              "\n",
              "  // Wait for the user to pick the files.\n",
              "  const files = yield {\n",
              "    promise: Promise.race([pickedPromise, cancelPromise]),\n",
              "    response: {\n",
              "      action: 'starting',\n",
              "    }\n",
              "  };\n",
              "\n",
              "  cancel.remove();\n",
              "\n",
              "  // Disable the input element since further picks are not allowed.\n",
              "  inputElement.disabled = true;\n",
              "\n",
              "  if (!files) {\n",
              "    return {\n",
              "      response: {\n",
              "        action: 'complete',\n",
              "      }\n",
              "    };\n",
              "  }\n",
              "\n",
              "  for (const file of files) {\n",
              "    const li = document.createElement('li');\n",
              "    li.append(span(file.name, {fontWeight: 'bold'}));\n",
              "    li.append(span(\n",
              "        `(${file.type || 'n/a'}) - ${file.size} bytes, ` +\n",
              "        `last modified: ${\n",
              "            file.lastModifiedDate ? file.lastModifiedDate.toLocaleDateString() :\n",
              "                                    'n/a'} - `));\n",
              "    const percent = span('0% done');\n",
              "    li.appendChild(percent);\n",
              "\n",
              "    outputElement.appendChild(li);\n",
              "\n",
              "    const fileDataPromise = new Promise((resolve) => {\n",
              "      const reader = new FileReader();\n",
              "      reader.onload = (e) => {\n",
              "        resolve(e.target.result);\n",
              "      };\n",
              "      reader.readAsArrayBuffer(file);\n",
              "    });\n",
              "    // Wait for the data to be ready.\n",
              "    let fileData = yield {\n",
              "      promise: fileDataPromise,\n",
              "      response: {\n",
              "        action: 'continue',\n",
              "      }\n",
              "    };\n",
              "\n",
              "    // Use a chunked sending to avoid message size limits. See b/62115660.\n",
              "    let position = 0;\n",
              "    do {\n",
              "      const length = Math.min(fileData.byteLength - position, MAX_PAYLOAD_SIZE);\n",
              "      const chunk = new Uint8Array(fileData, position, length);\n",
              "      position += length;\n",
              "\n",
              "      const base64 = btoa(String.fromCharCode.apply(null, chunk));\n",
              "      yield {\n",
              "        response: {\n",
              "          action: 'append',\n",
              "          file: file.name,\n",
              "          data: base64,\n",
              "        },\n",
              "      };\n",
              "\n",
              "      let percentDone = fileData.byteLength === 0 ?\n",
              "          100 :\n",
              "          Math.round((position / fileData.byteLength) * 100);\n",
              "      percent.textContent = `${percentDone}% done`;\n",
              "\n",
              "    } while (position < fileData.byteLength);\n",
              "  }\n",
              "\n",
              "  // All done.\n",
              "  yield {\n",
              "    response: {\n",
              "      action: 'complete',\n",
              "    }\n",
              "  };\n",
              "}\n",
              "\n",
              "scope.google = scope.google || {};\n",
              "scope.google.colab = scope.google.colab || {};\n",
              "scope.google.colab._files = {\n",
              "  _uploadFiles,\n",
              "  _uploadFilesContinue,\n",
              "};\n",
              "})(self);\n",
              "</script> "
            ]
          },
          "metadata": {}
        },
        {
          "output_type": "stream",
          "name": "stdout",
          "text": [
            "Saving config.json to config.json\n"
          ]
        }
      ]
    },
    {
      "cell_type": "markdown",
      "source": [
        "## **手動重製區**\n",
        "這裡是手動的調整區，可以調整這個帳號的基礎資料，像是目前持有金錢\n"
      ],
      "metadata": {
        "id": "NQ9N2_q5nEL_"
      }
    },
    {
      "cell_type": "code",
      "source": [
        "import json\n",
        "import os\n",
        "data[\"money\"] = 100000\n",
        "data[\"active\"] = \"no\"\n",
        "data[\"name\"] = \"\"\n",
        "with open(\"config.json\", mode = 'w') as file:\n",
        "  json.dump(data, file)\n",
        "with open(\"stock.txt\", mode = 'w') as file:\n",
        "   file.write(\"\")\n",
        "with open(\"trade.txt\", mode = 'w') as file:\n",
        "   file.write(\"\")\n",
        "print('已重製')"
      ],
      "metadata": {
        "colab": {
          "base_uri": "https://localhost:8080/"
        },
        "id": "9jCdq54lm6_D",
        "outputId": "eb4d6f19-09a3-47f0-e005-38dc91fdbfc0"
      },
      "execution_count": 12,
      "outputs": [
        {
          "output_type": "stream",
          "name": "stdout",
          "text": [
            "已重製\n"
          ]
        }
      ]
    },
    {
      "cell_type": "markdown",
      "source": [
        "# **下方的程式是主區域，按下啟動之後可以做以下的六個動作**\n",
        "\n",
        "*   買入(輸入1):根據現在市場的價格，購入輸入數量的股票\n",
        "\n",
        "---\n",
        "\n",
        "*   賣出(輸入2):根據現在市場的價格，賣出輸入數量的股票\n",
        "\n",
        "---\n",
        "\n",
        "*   查詢個人資訊(輸入3):查詢餘額，擁有的股票股數\n",
        "\n",
        "---\n",
        "\n",
        "*   查詢股票資訊(輸入4):查詢當下股票的市場價\n",
        "\n",
        "---\n",
        "\n",
        "\n",
        "*   重製(輸入redo):重製整支帳戶的基礎資訊，包括帳戶名稱跟起始基金\n",
        "\n",
        "---\n",
        "\n",
        "\n",
        "*   結束(輸入0):結束此程序\n",
        "\n",
        "\n",
        "\n"
      ],
      "metadata": {
        "id": "DsmeZvJKnUTa"
      }
    },
    {
      "cell_type": "markdown",
      "source": [
        "# **程式講解:**\n",
        "首先導入需要的api，我們分別需要\n",
        "\n",
        "1.  json:管理及儲存帳戶\n",
        "2.  os:去管理帳號及交易資訊\n",
        "3.  requests:讀取網站內容\n",
        "4.  bs4:這邊使用了BeautifulSoup去轉譯網站的資訊\n",
        "\n",
        "\n",
        "\n",
        "```\n",
        "import json\n",
        "import os\n",
        "import requests\n",
        "from bs4 import BeautifulSoup\n",
        "```\n",
        "第一步是基礎的帳號架設，會使用到json去储存帳號的基礎資訊，這裡使用的json檔案已經有初步的設定了，輸入學號後，就正式開通帳號\n",
        "\n",
        "> *如果還未導入json，可以使用預設在檔案的config.json加上上面的導入區做導入*\n",
        "\n",
        "\n",
        "\n",
        "```\n",
        "# with open(\"config.json\", mode = 'r') as file:\n",
        "  data = json.load(file)\n",
        "if data[\"name\"] == \"\":\n",
        "  StudentID = input('請輸入學號')\n",
        "active = data['active']\n",
        "money = data['money']\n",
        "name = data['name']\n",
        "if active == \"no\":\n",
        "  data[\"name\"] = StudentID\n",
        "  data[\"active\"] = \"yes\"\n",
        "```\n",
        "\n",
        "\n",
        "\n",
        "---\n",
        "\n",
        "\n",
        "\n",
        "這段是代表股票價格導入的函式，當他接受到code後會利用requests到對應的網站擷取股票的價格，在導入之後，經由BeautifulSoup轉譯內容，擷取在Fz(32)這個class下的文字，也就是市場價，最後回傳至呼叫的程式\n",
        "```\n",
        "# def load(code):\n",
        "    url = 'https://tw.stock.yahoo.com/quote/'+code\n",
        "    web = requests.get(url)\n",
        "    soup = BeautifulSoup(web.text, \"html.parser\")\n",
        "    X = soup.select('.Fz\\(32px\\)')[0]\n",
        "    price = f'{X.get_text()}'\n",
        "    price = price.replace(',', '')\n",
        "    return price\n",
        "```\n",
        "\n",
        "\n",
        "\n",
        "---\n",
        "\n",
        "\n",
        "第二步就是執行股票交易相關的動作\n",
        "\n",
        "\n",
        "*  買入(輸入1)\n",
        "\n",
        "\n",
        "系統會要求輸入股票代碼，接著系統會根據輸入的代碼，發送load(code)呼叫函式，擷取價格，假如價格為\"-\"，表示此股票不存在，輸入要購買的數量後，假設錢包的錢不夠，跳出餘額不足，其中由於股票代碼為英文的都使用美金，所以暫定用price*30表示匯率\n",
        "\n",
        "\n",
        "\n",
        "\n",
        "```\n",
        "# if move == '1':\n",
        "    code = input('請輸入股票代碼')\n",
        "    price = load(code)\n",
        "    if price == '-':\n",
        "      print('無此股票')\n",
        "      continue\n",
        "    price = float(price)\n",
        "    if code.isalpha() == True:\n",
        "      price = price * 30\n",
        "    share = float(input('請輸入數量'))\n",
        "    if money < price * share:\n",
        "      print('餘額不足')\n",
        "      continue\n",
        "```\n",
        "接下來的這段是模擬錢包跟交易紀錄的代碼，利用os中的寫入跟讀取去計算錢包中的金額，並且寫入購入的股票的代碼、數量、以及當下平均的總金額(股票平均價格*股票數量)，當下的資產狀況會寫入stock.txt，交易紀錄則會寫入trade.txt\n",
        "\n",
        "\n",
        "\n",
        "```\n",
        "#   with open(\"trade.txt\", mode = 'a') as file:\n",
        "      file.write(code+', '+str(share)+', 買入\\n')\n",
        "    price = price * share\n",
        "    money = money - price\n",
        "    data[\"money\"] = money\n",
        "\n",
        "    with open(\"stock.txt\", mode = 'r') as file:\n",
        "      lines = file.readlines()\n",
        "      #寫入的方式為全讀取後找到對應的行列，在修改後重新寫入\n",
        "    with open(\"stock.txt\", mode = 'r+') as file:\n",
        "      exist = False\n",
        "      for i in range(len(lines)):\n",
        "        info = lines[i].split()\n",
        "        if info[0] == code:\n",
        "            info[1] = float(info[1])\n",
        "            info[2] = float(info[2])\n",
        "            info[1] = info[1] + share\n",
        "            info[2] = info[2] + price\n",
        "            lines[i] = info[0] + \" \" + str(info[1]) + \" \" + str(info[2]) + \"\\n\"\n",
        "            exist = True\n",
        "            \n",
        "      with open(\"stock.txt\", mode='w') as file:\n",
        "          file.writelines(lines)\n",
        "      if exist == False:  #未存在的行列會新增在最底下\n",
        "        with open(\"stock.txt\", mode='a') as file:\n",
        "                file.write(str(code) + \" \" + str(share) + \" \" + str(price) + \"\\n\")\n",
        "        with open(\"config.json\", mode='w') as file:\n",
        "            json.dump(data, file)\n",
        "```\n",
        "\n",
        "*  賣出(輸入2)\n",
        "\n",
        "賣出的邏輯跟買入一致，偵測到股票數量不夠會跳出執行，而偵測到股票都賣完則會將整行的資料清空\n",
        "```\n",
        "#   #這裡標示出跟買入不同的部分  \n",
        "    with open(\"stock.txt\", mode = 'r+') as file:\n",
        "      for i in range(len(lines)):\n",
        "        info = lines[i].split()\n",
        "        if info[0] == code:\n",
        "            info[1] = float(info[1])\n",
        "            info[2] = float(info[2])\n",
        "            avg = info[2] / info[1]\n",
        "            info[1] = info[1] - share\n",
        "            info[2] = info[2] - avg * share\n",
        "            if info[1] == 0:\n",
        "              lines.pop(i)\n",
        "            elif info[1] < 0:\n",
        "              print('數量不足')\n",
        "              continue\n",
        "            else:\n",
        "              lines[i] = info[0] + \" \" + str(info[1]) + \" \" + str(info[2]) + \"\\n\"\n",
        "```\n",
        "\n",
        "*  查詢個人資訊(輸入3)\n",
        "\n",
        "利用os讀取stock.txt中的持股資料以及config.json中的money常數，並顯示給使用者看\n",
        "\n",
        "\n",
        "\n",
        "```\n",
        "# print(f'目前餘額為{money}新台幣\\n')\n",
        "    with open(\"stock.txt\", mode = 'r') as file:\n",
        "      for line in file:\n",
        "        info = line.split()\n",
        "        value = float(info[2])\n",
        "        print(f'股票代碼{info[0]} 股票數量{info[1]}股 股票平均總價值%.2f新台幣\\n' %(value))\n",
        "```\n",
        "\n",
        "*  查詢公司股票資訊(輸入4)\n",
        "\n",
        "利用load()函數讀取股票市場價並展示給使用者\n",
        "\n",
        "\n",
        "\n",
        "```\n",
        "# code = input('請輸入股票代碼')\n",
        "  price = load(code)\n",
        "  if price == '-':\n",
        "    print('無此股票')\n",
        "    continue\n",
        "  price = float(price)\n",
        "  if code.isalpha() == True:\n",
        "    price = price * 30  \n",
        "  print(f\"目前價格為{price}新台幣\\n\")\n",
        "```\n",
        "\n",
        "*  重製(輸入redo)\n",
        "\n",
        "清空三個檔案的資訊，並強制結束程式\n",
        "\n",
        "\n",
        "\n",
        "```\n",
        "#   data[\"money\"] = 100000\n",
        "    data[\"active\"] = \"no\"\n",
        "    data[\"name\"] = \"\"\n",
        "    with open(\"config.json\", mode = 'w') as file:\n",
        "      json.dump(data, file)\n",
        "    with open(\"stock.txt\", mode = 'w') as file:\n",
        "      file.write(\"\")\n",
        "    with open(\"trade.txt\", mode = 'w') as file:\n",
        "      file.write(\"\")\n",
        "    print('已重製')\n",
        "    break\n",
        "```\n",
        "以上是這個專案的全部\n",
        "\n",
        "\n"
      ],
      "metadata": {
        "id": "EeiUrqxRpGeP"
      }
    },
    {
      "cell_type": "code",
      "source": [
        "import json\n",
        "import os\n",
        "import requests\n",
        "from bs4 import BeautifulSoup\n",
        "def load(code):\n",
        "    url = 'https://tw.stock.yahoo.com/quote/'+code\n",
        "    web = requests.get(url)\n",
        "    soup = BeautifulSoup(web.text, \"html.parser\")\n",
        "    X = soup.select('.Fz\\(32px\\)')[0]\n",
        "    price = f'{X.get_text()}'\n",
        "    price = price.replace(',', '')\n",
        "    return price\n",
        "\n",
        "with open(\"config.json\", mode = 'r') as file:\n",
        "  data = json.load(file)\n",
        "if data[\"name\"] == \"\":\n",
        "  StudentID = input('請輸入學號')\n",
        "active = data['active']\n",
        "money = data['money']\n",
        "name = data['name']\n",
        "if active == \"no\":\n",
        "  data[\"name\"] = StudentID\n",
        "  data[\"active\"] = \"yes\"\n",
        "\n",
        "while(True):\n",
        "  move = input('買入請輸入1，賣出請輸入2, 查詢個人資料請輸入3, 查詢公司股價請輸入4, 重製請輸入redo, 關閉請輸入0')\n",
        "\n",
        "  if move == '1':\n",
        "    code = input('請輸入股票代碼')\n",
        "    price = load(code)\n",
        "    if price == '-':\n",
        "      print('無此股票')\n",
        "      continue\n",
        "    price = float(price)\n",
        "    if code.isalpha() == True:\n",
        "      price = price * 30\n",
        "    share = float(input('請輸入數量'))\n",
        "    if money < price * share:\n",
        "      print('餘額不足')\n",
        "      continue\n",
        "    with open(\"trade.txt\", mode = 'a') as file:\n",
        "      file.write(code+', '+str(share)+', 買入\\n')\n",
        "    price = price * share\n",
        "    money = money - price\n",
        "    data[\"money\"] = money\n",
        "\n",
        "    with open(\"stock.txt\", mode = 'r') as file:\n",
        "      lines = file.readlines()\n",
        "\n",
        "    with open(\"stock.txt\", mode = 'r+') as file:\n",
        "      exist = False\n",
        "      for i in range(len(lines)):\n",
        "        info = lines[i].split()\n",
        "        if info[0] == code:\n",
        "            info[1] = float(info[1])\n",
        "            info[2] = float(info[2])\n",
        "            info[1] = info[1] + share\n",
        "            info[2] = info[2] + price\n",
        "            lines[i] = info[0] + \" \" + str(info[1]) + \" \" + str(info[2]) + \"\\n\"\n",
        "            exist = True\n",
        "\n",
        "      with open(\"stock.txt\", mode='w') as file:\n",
        "          file.writelines(lines)\n",
        "      if exist == False:\n",
        "        with open(\"stock.txt\", mode='a') as file:\n",
        "                file.write(str(code) + \" \" + str(share) + \" \" + str(price) + \"\\n\")\n",
        "        with open(\"config.json\", mode='w') as file:\n",
        "            json.dump(data, file)\n",
        "\n",
        "  elif move == '2':\n",
        "    code = input('請輸入股票代碼')\n",
        "    price = load(code)\n",
        "    if price == '-':\n",
        "      print('無此股票')\n",
        "      continue\n",
        "    price = float(price)\n",
        "    if code.isalpha() == True:\n",
        "      price = price * 30\n",
        "    share = float(input('請輸入數量'))\n",
        "\n",
        "    with open(\"trade.txt\", mode = 'a') as file:\n",
        "      file.write(code+', '+str(share)+', 賣出\\n')\n",
        "    price = price * share\n",
        "    money = money + price\n",
        "    data[\"money\"] = money\n",
        "\n",
        "    with open(\"stock.txt\", mode = 'r') as file:\n",
        "      lines = file.readlines()\n",
        "\n",
        "    with open(\"stock.txt\", mode = 'r+') as file:\n",
        "      for i in range(len(lines)):\n",
        "        info = lines[i].split()\n",
        "        if info[0] == code:\n",
        "            info[1] = float(info[1])\n",
        "            info[2] = float(info[2])\n",
        "            avg = info[2] / info[1]\n",
        "            info[1] = info[1] - share\n",
        "            info[2] = info[2] - avg * share\n",
        "            if info[1] == 0:\n",
        "              lines.pop(i)\n",
        "            elif info[1] < 0:\n",
        "              print('數量不足')\n",
        "              continue\n",
        "            else:\n",
        "              lines[i] = info[0] + \" \" + str(info[1]) + \" \" + str(info[2]) + \"\\n\"\n",
        "\n",
        "\n",
        "    with open(\"stock.txt\", mode='w') as file:\n",
        "          file.writelines(lines)\n",
        "\n",
        "    with open(\"config.json\", mode='w') as file:\n",
        "         json.dump(data, file)\n",
        "\n",
        "  elif move == '3':\n",
        "    print(f'目前餘額為{money}新台幣\\n')\n",
        "    with open(\"stock.txt\", mode = 'r') as file:\n",
        "      for line in file:\n",
        "        info = line.split()\n",
        "        value = float(info[2])\n",
        "        print(f'股票代碼{info[0]} 股票數量{info[1]}股 股票平均總價值%.2f新台幣\\n' %(value))\n",
        "\n",
        "  elif move == '4':\n",
        "    code = input('請輸入股票代碼')\n",
        "    price = load(code)\n",
        "    if price == '-':\n",
        "      print('無此股票')\n",
        "      continue\n",
        "    price = float(price)\n",
        "    if code.isalpha() == True:\n",
        "      price = price * 30\n",
        "    print(f\"目前價格為{price}新台幣\\n\")\n",
        "\n",
        "  elif move == 'redo':\n",
        "    data[\"money\"] = 100000\n",
        "    data[\"active\"] = \"no\"\n",
        "    data[\"name\"] = \"\"\n",
        "    with open(\"config.json\", mode = 'w') as file:\n",
        "      json.dump(data, file)\n",
        "    with open(\"stock.txt\", mode = 'w') as file:\n",
        "      file.write(\"\")\n",
        "    with open(\"trade.txt\", mode = 'w') as file:\n",
        "      file.write(\"\")\n",
        "    print('已重製')\n",
        "    break\n",
        "\n",
        "  elif move == '0':\n",
        "    print('程式已結束')\n",
        "    break\n"
      ],
      "metadata": {
        "colab": {
          "base_uri": "https://localhost:8080/"
        },
        "id": "lMpRiaIS6qBR",
        "outputId": "872e724d-936f-4046-c3ae-03a2706ad9f7"
      },
      "execution_count": 11,
      "outputs": [
        {
          "output_type": "stream",
          "name": "stdout",
          "text": [
            "買入請輸入1，賣出請輸入2, 查詢個人資料請輸入3, 查詢公司股價請輸入4, 重製請輸入redo, 關閉請輸入01\n",
            "請輸入股票代碼2330\n",
            "請輸入數量6\n",
            "買入請輸入1，賣出請輸入2, 查詢個人資料請輸入3, 查詢公司股價請輸入4, 重製請輸入redo, 關閉請輸入03\n",
            "目前餘額為87570.0新台幣\n",
            "\n",
            "股票代碼2330 股票數量6.0股 股票平均總價值6780.00新台幣\n",
            "\n",
            "買入請輸入1，賣出請輸入2, 查詢個人資料請輸入3, 查詢公司股價請輸入4, 重製請輸入redo, 關閉請輸入02\n",
            "請輸入股票代碼2330\n",
            "請輸入數量3\n",
            "買入請輸入1，賣出請輸入2, 查詢個人資料請輸入3, 查詢公司股價請輸入4, 重製請輸入redo, 關閉請輸入03\n",
            "目前餘額為90960.0新台幣\n",
            "\n",
            "股票代碼2330 股票數量3.0股 股票平均總價值3390.00新台幣\n",
            "\n",
            "買入請輸入1，賣出請輸入2, 查詢個人資料請輸入3, 查詢公司股價請輸入4, 重製請輸入redo, 關閉請輸入00\n",
            "程式已結束\n"
          ]
        }
      ]
    },
    {
      "cell_type": "markdown",
      "source": [
        "## 這裡是下載區\n",
        "可以將三個檔案下載下來，防止檔案在colab離線時被丟棄。"
      ],
      "metadata": {
        "id": "z6o7gLw3N0BB"
      }
    },
    {
      "cell_type": "code",
      "source": [
        "from google.colab import files\n",
        "files.download(\"stock.txt\")\n",
        "files.download(\"trade.txt\")\n",
        "files.download(\"config.json\")"
      ],
      "metadata": {
        "colab": {
          "base_uri": "https://localhost:8080/",
          "height": 17
        },
        "id": "X3JwlfpnNWG2",
        "outputId": "a4498194-513d-4993-a10c-43c86b113d6b"
      },
      "execution_count": 5,
      "outputs": [
        {
          "output_type": "display_data",
          "data": {
            "text/plain": [
              "<IPython.core.display.Javascript object>"
            ],
            "application/javascript": [
              "\n",
              "    async function download(id, filename, size) {\n",
              "      if (!google.colab.kernel.accessAllowed) {\n",
              "        return;\n",
              "      }\n",
              "      const div = document.createElement('div');\n",
              "      const label = document.createElement('label');\n",
              "      label.textContent = `Downloading \"${filename}\": `;\n",
              "      div.appendChild(label);\n",
              "      const progress = document.createElement('progress');\n",
              "      progress.max = size;\n",
              "      div.appendChild(progress);\n",
              "      document.body.appendChild(div);\n",
              "\n",
              "      const buffers = [];\n",
              "      let downloaded = 0;\n",
              "\n",
              "      const channel = await google.colab.kernel.comms.open(id);\n",
              "      // Send a message to notify the kernel that we're ready.\n",
              "      channel.send({})\n",
              "\n",
              "      for await (const message of channel.messages) {\n",
              "        // Send a message to notify the kernel that we're ready.\n",
              "        channel.send({})\n",
              "        if (message.buffers) {\n",
              "          for (const buffer of message.buffers) {\n",
              "            buffers.push(buffer);\n",
              "            downloaded += buffer.byteLength;\n",
              "            progress.value = downloaded;\n",
              "          }\n",
              "        }\n",
              "      }\n",
              "      const blob = new Blob(buffers, {type: 'application/binary'});\n",
              "      const a = document.createElement('a');\n",
              "      a.href = window.URL.createObjectURL(blob);\n",
              "      a.download = filename;\n",
              "      div.appendChild(a);\n",
              "      a.click();\n",
              "      div.remove();\n",
              "    }\n",
              "  "
            ]
          },
          "metadata": {}
        },
        {
          "output_type": "display_data",
          "data": {
            "text/plain": [
              "<IPython.core.display.Javascript object>"
            ],
            "application/javascript": [
              "download(\"download_aa8ce217-ba08-4177-9d55-8a01ad25e553\", \"stock.txt\", 0)"
            ]
          },
          "metadata": {}
        },
        {
          "output_type": "display_data",
          "data": {
            "text/plain": [
              "<IPython.core.display.Javascript object>"
            ],
            "application/javascript": [
              "\n",
              "    async function download(id, filename, size) {\n",
              "      if (!google.colab.kernel.accessAllowed) {\n",
              "        return;\n",
              "      }\n",
              "      const div = document.createElement('div');\n",
              "      const label = document.createElement('label');\n",
              "      label.textContent = `Downloading \"${filename}\": `;\n",
              "      div.appendChild(label);\n",
              "      const progress = document.createElement('progress');\n",
              "      progress.max = size;\n",
              "      div.appendChild(progress);\n",
              "      document.body.appendChild(div);\n",
              "\n",
              "      const buffers = [];\n",
              "      let downloaded = 0;\n",
              "\n",
              "      const channel = await google.colab.kernel.comms.open(id);\n",
              "      // Send a message to notify the kernel that we're ready.\n",
              "      channel.send({})\n",
              "\n",
              "      for await (const message of channel.messages) {\n",
              "        // Send a message to notify the kernel that we're ready.\n",
              "        channel.send({})\n",
              "        if (message.buffers) {\n",
              "          for (const buffer of message.buffers) {\n",
              "            buffers.push(buffer);\n",
              "            downloaded += buffer.byteLength;\n",
              "            progress.value = downloaded;\n",
              "          }\n",
              "        }\n",
              "      }\n",
              "      const blob = new Blob(buffers, {type: 'application/binary'});\n",
              "      const a = document.createElement('a');\n",
              "      a.href = window.URL.createObjectURL(blob);\n",
              "      a.download = filename;\n",
              "      div.appendChild(a);\n",
              "      a.click();\n",
              "      div.remove();\n",
              "    }\n",
              "  "
            ]
          },
          "metadata": {}
        },
        {
          "output_type": "display_data",
          "data": {
            "text/plain": [
              "<IPython.core.display.Javascript object>"
            ],
            "application/javascript": [
              "download(\"download_a05d1a4e-49ac-4ee0-a5aa-e58d56bb8444\", \"trade.txt\", 0)"
            ]
          },
          "metadata": {}
        },
        {
          "output_type": "display_data",
          "data": {
            "text/plain": [
              "<IPython.core.display.Javascript object>"
            ],
            "application/javascript": [
              "\n",
              "    async function download(id, filename, size) {\n",
              "      if (!google.colab.kernel.accessAllowed) {\n",
              "        return;\n",
              "      }\n",
              "      const div = document.createElement('div');\n",
              "      const label = document.createElement('label');\n",
              "      label.textContent = `Downloading \"${filename}\": `;\n",
              "      div.appendChild(label);\n",
              "      const progress = document.createElement('progress');\n",
              "      progress.max = size;\n",
              "      div.appendChild(progress);\n",
              "      document.body.appendChild(div);\n",
              "\n",
              "      const buffers = [];\n",
              "      let downloaded = 0;\n",
              "\n",
              "      const channel = await google.colab.kernel.comms.open(id);\n",
              "      // Send a message to notify the kernel that we're ready.\n",
              "      channel.send({})\n",
              "\n",
              "      for await (const message of channel.messages) {\n",
              "        // Send a message to notify the kernel that we're ready.\n",
              "        channel.send({})\n",
              "        if (message.buffers) {\n",
              "          for (const buffer of message.buffers) {\n",
              "            buffers.push(buffer);\n",
              "            downloaded += buffer.byteLength;\n",
              "            progress.value = downloaded;\n",
              "          }\n",
              "        }\n",
              "      }\n",
              "      const blob = new Blob(buffers, {type: 'application/binary'});\n",
              "      const a = document.createElement('a');\n",
              "      a.href = window.URL.createObjectURL(blob);\n",
              "      a.download = filename;\n",
              "      div.appendChild(a);\n",
              "      a.click();\n",
              "      div.remove();\n",
              "    }\n",
              "  "
            ]
          },
          "metadata": {}
        },
        {
          "output_type": "display_data",
          "data": {
            "text/plain": [
              "<IPython.core.display.Javascript object>"
            ],
            "application/javascript": [
              "download(\"download_18ca898c-52f5-48fa-8af7-c60445663d52\", \"config.json\", 73)"
            ]
          },
          "metadata": {}
        }
      ]
    }
  ]
}